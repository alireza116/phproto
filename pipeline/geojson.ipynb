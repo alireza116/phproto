{
 "cells": [
  {
   "cell_type": "code",
   "execution_count": 61,
   "metadata": {},
   "outputs": [],
   "source": [
    "import pandas as pd\n",
    "import geopandas\n",
    "import json\n",
    "import shapely\n",
    "import ast\n",
    "import numpy as np\n",
    "from shapely.geometry import shape, mapping"
   ]
  },
  {
   "cell_type": "code",
   "execution_count": 5,
   "metadata": {},
   "outputs": [],
   "source": [
    "df = pd.read_csv(\"processedData/dataWithEmotionEntityTopic.csv\")"
   ]
  },
  {
   "cell_type": "code",
   "execution_count": 17,
   "metadata": {},
   "outputs": [],
   "source": [
    "df[\"place_dict\"] = df.place.apply(ast.literal_eval)"
   ]
  },
  {
   "cell_type": "code",
   "execution_count": 36,
   "metadata": {},
   "outputs": [],
   "source": [
    "df[\"centroid\"] = df[\"place_dict\"].apply(lambda x: shape(x[\"bounding_box\"]).centroid)"
   ]
  },
  {
   "cell_type": "code",
   "execution_count": 37,
   "metadata": {},
   "outputs": [
    {
     "data": {
      "text/plain": [
       "0        POINT (100.544625 13.735926)\n",
       "1      POINT (100.3052875 13.7003545)\n",
       "2      POINT (100.3052875 13.7003545)\n",
       "3      POINT (100.3052875 13.7003545)\n",
       "4        POINT (100.569407 13.720195)\n",
       "                    ...              \n",
       "757     POINT (100.618354 13.6056815)\n",
       "758     POINT (100.612125 13.8193365)\n",
       "759       POINT (105.81489 21.014044)\n",
       "760       POINT (105.81489 21.014044)\n",
       "761     POINT (100.618354 13.6056815)\n",
       "Name: centroid, Length: 762, dtype: object"
      ]
     },
     "execution_count": 37,
     "metadata": {},
     "output_type": "execute_result"
    }
   ],
   "source": [
    "df[\"centroid\"]"
   ]
  },
  {
   "cell_type": "code",
   "execution_count": 52,
   "metadata": {},
   "outputs": [],
   "source": [
    "geojson = geopandas.GeoSeries(df[\"centroid\"]).__geo_interface__[\"features\"]"
   ]
  },
  {
   "cell_type": "code",
   "execution_count": 62,
   "metadata": {},
   "outputs": [],
   "source": [
    "df = df.replace(np.nan, '', regex=True)"
   ]
  },
  {
   "cell_type": "code",
   "execution_count": 63,
   "metadata": {},
   "outputs": [
    {
     "data": {
      "text/plain": [
       "Index(['Unnamed: 0', 'created_at', 'id', 'id_str', 'text',\n",
       "       'display_text_range', 'source', 'truncated', 'in_reply_to_status_id',\n",
       "       'in_reply_to_status_id_str', 'in_reply_to_user_id',\n",
       "       'in_reply_to_user_id_str', 'in_reply_to_screen_name', 'user', 'geo',\n",
       "       'coordinates', 'place', 'contributors', 'is_quote_status',\n",
       "       'quote_count', 'reply_count', 'retweet_count', 'favorite_count',\n",
       "       'entities', 'favorited', 'retweeted', 'filter_level', 'lang',\n",
       "       'timestamp_ms', 'extended_entities', 'possibly_sensitive',\n",
       "       'quoted_status_id', 'quoted_status_id_str', 'quoted_status',\n",
       "       'quoted_status_permalink', 'extended_tweet', 'withheld_in_countries',\n",
       "       'clean_text', 'Anger', 'Disgust', 'Fear', 'Joy', 'Sadness', 'Surprise',\n",
       "       'ents', 'locEnts', 'entity', 'topic_id', 'place_dict', 'centroid',\n",
       "       'centroid_geojson'],\n",
       "      dtype='object')"
      ]
     },
     "execution_count": 63,
     "metadata": {},
     "output_type": "execute_result"
    }
   ],
   "source": [
    "df.columns"
   ]
  },
  {
   "cell_type": "code",
   "execution_count": 64,
   "metadata": {},
   "outputs": [],
   "source": [
    "df_records = df.drop([\"centroid\",\"place_dict\",\"centroid_geojson\"],axis=1).to_dict('records')"
   ]
  },
  {
   "cell_type": "code",
   "execution_count": 69,
   "metadata": {},
   "outputs": [],
   "source": [
    "for j, properties in zip(geojson,df_records):\n",
    "    j[\"properties\"] = properties\n",
    "    j[\"properties\"][\"topic\"] = properties[\"topic_id\"]"
   ]
  },
  {
   "cell_type": "code",
   "execution_count": 70,
   "metadata": {},
   "outputs": [],
   "source": [
    "with open(\"processed_data_feb_23.geojson\",\"w\") as jsonFile:\n",
    "    jsonFile.write(json.dumps(geojson))"
   ]
  },
  {
   "cell_type": "code",
   "execution_count": 71,
   "metadata": {},
   "outputs": [],
   "source": [
    "jsonstring = json.dumps(geojson)"
   ]
  },
  {
   "cell_type": "code",
   "execution_count": 72,
   "metadata": {},
   "outputs": [
    {
     "data": {
      "text/plain": [
       "'geo\": \"\", \"coor'"
      ]
     },
     "execution_count": 72,
     "metadata": {},
     "output_type": "execute_result"
    }
   ],
   "source": [
    "jsonstring[2325:2340]"
   ]
  },
  {
   "cell_type": "code",
   "execution_count": null,
   "metadata": {},
   "outputs": [],
   "source": []
  }
 ],
 "metadata": {
  "kernelspec": {
   "display_name": "Python 3",
   "language": "python",
   "name": "python3"
  },
  "language_info": {
   "codemirror_mode": {
    "name": "ipython",
    "version": 3
   },
   "file_extension": ".py",
   "mimetype": "text/x-python",
   "name": "python",
   "nbconvert_exporter": "python",
   "pygments_lexer": "ipython3",
   "version": "3.8.5"
  }
 },
 "nbformat": 4,
 "nbformat_minor": 4
}
